{
  "cells": [
    {
      "cell_type": "markdown",
      "metadata": {
        "id": "view-in-github",
        "colab_type": "text"
      },
      "source": [
        "<a href=\"https://colab.research.google.com/github/saidElhachemy/Age-rating/blob/main/Age_rating_prediction.ipynb\" target=\"_parent\"><img src=\"https://colab.research.google.com/assets/colab-badge.svg\" alt=\"Open In Colab\"/></a>"
      ]
    },
    {
      "cell_type": "markdown",
      "metadata": {
        "id": "52htgujqbYSX"
      },
      "source": [
        "# Importation des librairies necessaires"
      ]
    },
    {
      "cell_type": "code",
      "execution_count": null,
      "metadata": {
        "id": "0Bpih-pWbM0V",
        "outputId": "a2459816-4f08-4eea-cf81-27c3560e5890"
      },
      "outputs": [
        {
          "name": "stderr",
          "output_type": "stream",
          "text": [
            "Using TensorFlow backend.\n"
          ]
        }
      ],
      "source": [
        "import io\n",
        "import pandas as pd\n",
        "import os\n",
        "import numpy as np\n",
        "from numpy import loadtxt\n",
        "import matplotlib.pyplot as plt\n",
        "import math\n",
        "import glob\n",
        "from PIL import Image\n",
        "from keras.models import Sequential\n",
        "from keras.layers import Dense\n",
        "from keras.layers import LSTM, Dropout\n",
        "from sklearn.preprocessing import MinMaxScaler\n",
        "from sklearn.metrics import mean_squared_error\n",
        "from keras.preprocessing.image import ImageDataGenerator\n",
        "from keras.layers import *\n",
        "from keras.utils import to_categorical\n",
        "from keras.models import load_model\n",
        "from keras.models import Model, Sequential\n",
        "from keras.layers import TimeDistributed\n",
        "from keras.layers import Conv2D,Conv3D\n",
        "from keras.layers import MaxPooling2D\n",
        "from keras.layers import Flatten,Reshape\n",
        "from keras.layers import BatchNormalization"
      ]
    },
    {
      "cell_type": "markdown",
      "metadata": {
        "id": "IT8za6LfbYSd"
      },
      "source": [
        "# $1^{ére}$ Etape : Utilisation d'un model de prédiction d'age <br>\n",
        "**Pour calculer le facteur de vieillissement**"
      ]
    },
    {
      "cell_type": "markdown",
      "metadata": {
        "id": "4ORBBciObYSd"
      },
      "source": [
        "**Les weights de model que nous avons sont définit pour une architecture spécifique, donc il faut la redéfinir avant de faire load de ces weights :**"
      ]
    },
    {
      "cell_type": "code",
      "execution_count": null,
      "metadata": {
        "id": "JMgTv1HYbYSe"
      },
      "outputs": [],
      "source": [
        "#VGG-Face model\n",
        "model = Sequential()\n",
        "model.add(ZeroPadding2D((1,1),input_shape=(224,224, 3)))\n",
        "model.add(Convolution2D(64, (3, 3), activation='relu'))\n",
        "model.add(ZeroPadding2D((1,1)))\n",
        "model.add(Convolution2D(64, (3, 3), activation='relu'))\n",
        "model.add(MaxPooling2D((2,2), strides=(2,2)))\n",
        " \n",
        "model.add(ZeroPadding2D((1,1)))\n",
        "model.add(Convolution2D(128, (3, 3), activation='relu'))\n",
        "model.add(ZeroPadding2D((1,1)))\n",
        "model.add(Convolution2D(128, (3, 3), activation='relu'))\n",
        "model.add(MaxPooling2D((2,2), strides=(2,2)))\n",
        " \n",
        "model.add(ZeroPadding2D((1,1)))\n",
        "model.add(Convolution2D(256, (3, 3), activation='relu'))\n",
        "model.add(ZeroPadding2D((1,1)))\n",
        "model.add(Convolution2D(256, (3, 3), activation='relu'))\n",
        "model.add(ZeroPadding2D((1,1)))\n",
        "model.add(Convolution2D(256, (3, 3), activation='relu'))\n",
        "model.add(MaxPooling2D((2,2), strides=(2,2)))\n",
        " \n",
        "model.add(ZeroPadding2D((1,1)))\n",
        "model.add(Convolution2D(512, (3, 3), activation='relu'))\n",
        "model.add(ZeroPadding2D((1,1)))\n",
        "model.add(Convolution2D(512, (3, 3), activation='relu'))\n",
        "model.add(ZeroPadding2D((1,1)))\n",
        "model.add(Convolution2D(512, (3, 3), activation='relu'))\n",
        "model.add(MaxPooling2D((2,2), strides=(2,2)))\n",
        " \n",
        "model.add(ZeroPadding2D((1,1)))\n",
        "model.add(Convolution2D(512, (3, 3), activation='relu'))\n",
        "model.add(ZeroPadding2D((1,1)))\n",
        "model.add(Convolution2D(512, (3, 3), activation='relu'))\n",
        "model.add(ZeroPadding2D((1,1)))\n",
        "model.add(Convolution2D(512, (3, 3), activation='relu'))\n",
        "model.add(MaxPooling2D((2,2), strides=(2,2)))\n",
        " \n",
        "model.add(Convolution2D(4096, (7, 7), activation='relu'))\n",
        "model.add(Dropout(0.5))\n",
        "model.add(Convolution2D(4096, (1, 1), activation='relu'))\n",
        "model.add(Dropout(0.5))\n",
        "model.add(Convolution2D(2622, (1, 1)))\n",
        "model.add(Flatten())\n",
        "model.add(Activation('softmax'))"
      ]
    },
    {
      "cell_type": "markdown",
      "metadata": {
        "id": "oJn-36bnbYSf"
      },
      "source": [
        "**les 7 dernier layers n'entre pas dans l'architecture, donc on les omet**"
      ]
    },
    {
      "cell_type": "code",
      "execution_count": null,
      "metadata": {
        "id": "01l_GWjrbYSf"
      },
      "outputs": [],
      "source": [
        "for layer in model.layers[:-7]:\n",
        "    layer.trainable = False\n",
        " \n",
        "base_model_output = Sequential()\n",
        "base_model_output = Convolution2D(101, (1, 1), name='predictions')(model.layers[-4].output)\n",
        "base_model_output = Flatten()(base_model_output)\n",
        "base_model_output = Activation('softmax')(base_model_output)\n",
        " \n",
        "age_model = Model(inputs=model.input, outputs=base_model_output)"
      ]
    },
    {
      "cell_type": "markdown",
      "metadata": {
        "id": "jHFCLGu6bYSg"
      },
      "source": [
        "**load les weights**"
      ]
    },
    {
      "cell_type": "code",
      "execution_count": null,
      "metadata": {
        "id": "nYAb1qfMbYSh",
        "outputId": "e472803a-6a05-42c3-d644-e3c6f3f7230c"
      },
      "outputs": [
        {
          "name": "stdout",
          "output_type": "stream",
          "text": [
            "_________________________________________________________________\n",
            "Layer (type)                 Output Shape              Param #   \n",
            "=================================================================\n",
            "zero_padding2d_27_input (Inp (None, 224, 224, 3)       0         \n",
            "_________________________________________________________________\n",
            "zero_padding2d_27 (ZeroPaddi (None, 226, 226, 3)       0         \n",
            "_________________________________________________________________\n",
            "conv2d_33 (Conv2D)           (None, 224, 224, 64)      1792      \n",
            "_________________________________________________________________\n",
            "zero_padding2d_28 (ZeroPaddi (None, 226, 226, 64)      0         \n",
            "_________________________________________________________________\n",
            "conv2d_34 (Conv2D)           (None, 224, 224, 64)      36928     \n",
            "_________________________________________________________________\n",
            "max_pooling2d_11 (MaxPooling (None, 112, 112, 64)      0         \n",
            "_________________________________________________________________\n",
            "zero_padding2d_29 (ZeroPaddi (None, 114, 114, 64)      0         \n",
            "_________________________________________________________________\n",
            "conv2d_35 (Conv2D)           (None, 112, 112, 128)     73856     \n",
            "_________________________________________________________________\n",
            "zero_padding2d_30 (ZeroPaddi (None, 114, 114, 128)     0         \n",
            "_________________________________________________________________\n",
            "conv2d_36 (Conv2D)           (None, 112, 112, 128)     147584    \n",
            "_________________________________________________________________\n",
            "max_pooling2d_12 (MaxPooling (None, 56, 56, 128)       0         \n",
            "_________________________________________________________________\n",
            "zero_padding2d_31 (ZeroPaddi (None, 58, 58, 128)       0         \n",
            "_________________________________________________________________\n",
            "conv2d_37 (Conv2D)           (None, 56, 56, 256)       295168    \n",
            "_________________________________________________________________\n",
            "zero_padding2d_32 (ZeroPaddi (None, 58, 58, 256)       0         \n",
            "_________________________________________________________________\n",
            "conv2d_38 (Conv2D)           (None, 56, 56, 256)       590080    \n",
            "_________________________________________________________________\n",
            "zero_padding2d_33 (ZeroPaddi (None, 58, 58, 256)       0         \n",
            "_________________________________________________________________\n",
            "conv2d_39 (Conv2D)           (None, 56, 56, 256)       590080    \n",
            "_________________________________________________________________\n",
            "max_pooling2d_13 (MaxPooling (None, 28, 28, 256)       0         \n",
            "_________________________________________________________________\n",
            "zero_padding2d_34 (ZeroPaddi (None, 30, 30, 256)       0         \n",
            "_________________________________________________________________\n",
            "conv2d_40 (Conv2D)           (None, 28, 28, 512)       1180160   \n",
            "_________________________________________________________________\n",
            "zero_padding2d_35 (ZeroPaddi (None, 30, 30, 512)       0         \n",
            "_________________________________________________________________\n",
            "conv2d_41 (Conv2D)           (None, 28, 28, 512)       2359808   \n",
            "_________________________________________________________________\n",
            "zero_padding2d_36 (ZeroPaddi (None, 30, 30, 512)       0         \n",
            "_________________________________________________________________\n",
            "conv2d_42 (Conv2D)           (None, 28, 28, 512)       2359808   \n",
            "_________________________________________________________________\n",
            "max_pooling2d_14 (MaxPooling (None, 14, 14, 512)       0         \n",
            "_________________________________________________________________\n",
            "zero_padding2d_37 (ZeroPaddi (None, 16, 16, 512)       0         \n",
            "_________________________________________________________________\n",
            "conv2d_43 (Conv2D)           (None, 14, 14, 512)       2359808   \n",
            "_________________________________________________________________\n",
            "zero_padding2d_38 (ZeroPaddi (None, 16, 16, 512)       0         \n",
            "_________________________________________________________________\n",
            "conv2d_44 (Conv2D)           (None, 14, 14, 512)       2359808   \n",
            "_________________________________________________________________\n",
            "zero_padding2d_39 (ZeroPaddi (None, 16, 16, 512)       0         \n",
            "_________________________________________________________________\n",
            "conv2d_45 (Conv2D)           (None, 14, 14, 512)       2359808   \n",
            "_________________________________________________________________\n",
            "max_pooling2d_15 (MaxPooling (None, 7, 7, 512)         0         \n",
            "_________________________________________________________________\n",
            "conv2d_46 (Conv2D)           (None, 1, 1, 4096)        102764544 \n",
            "_________________________________________________________________\n",
            "dropout_5 (Dropout)          (None, 1, 1, 4096)        0         \n",
            "_________________________________________________________________\n",
            "conv2d_47 (Conv2D)           (None, 1, 1, 4096)        16781312  \n",
            "_________________________________________________________________\n",
            "dropout_6 (Dropout)          (None, 1, 1, 4096)        0         \n",
            "_________________________________________________________________\n",
            "predictions (Conv2D)         (None, 1, 1, 101)         413797    \n",
            "_________________________________________________________________\n",
            "flatten_5 (Flatten)          (None, 101)               0         \n",
            "_________________________________________________________________\n",
            "activation_5 (Activation)    (None, 101)               0         \n",
            "=================================================================\n",
            "Total params: 134,674,341\n",
            "Trainable params: 119,959,653\n",
            "Non-trainable params: 14,714,688\n",
            "_________________________________________________________________\n"
          ]
        }
      ],
      "source": [
        "age_model.load_weights('age_model_weights.h5')\n",
        "# summarize model.\n",
        "age_model.summary()"
      ]
    },
    {
      "cell_type": "markdown",
      "metadata": {
        "id": "6W5G4hjwbYSh"
      },
      "source": [
        "# tester le model"
      ]
    },
    {
      "cell_type": "markdown",
      "metadata": {
        "id": "avUJGrw_bYSi"
      },
      "source": [
        "**les image sur lesquelles on va tester le model doivent etre de shape (224, 224, 3) !!**"
      ]
    },
    {
      "cell_type": "code",
      "execution_count": null,
      "metadata": {
        "id": "OFNa9O9EbYSi",
        "outputId": "7288d86f-0032-42fb-8d55-566c741348ba"
      },
      "outputs": [
        {
          "name": "stdout",
          "output_type": "stream",
          "text": [
            "(224, 224, 3)\n"
          ]
        },
        {
          "data": {
            "text/plain": [
              "<matplotlib.image.AxesImage at 0x110ef748>"
            ]
          },
          "execution_count": 252,
          "metadata": {},
          "output_type": "execute_result"
        },
        {
          "data": {
            "image/png": "[encoded data removed]",
            "text/plain": [
              "<Figure size 432x288 with 1 Axes>"
            ]
          },
          "metadata": {
            "needs_background": "light"
          },
          "output_type": "display_data"
        }
      ],
      "source": [
        "img = plt.imread('18.jpeg')\n",
        "print(img.shape)\n",
        "plt.imshow(img)"
      ]
    },
    {
      "cell_type": "code",
      "execution_count": null,
      "metadata": {
        "id": "Nk4J_W8SbYSj"
      },
      "outputs": [],
      "source": [
        "imga = np.asarray(img)"
      ]
    },
    {
      "cell_type": "markdown",
      "metadata": {
        "id": "b424zOKZbYSj"
      },
      "source": [
        "**le model prend comme entrée un array des images, donc l'entrée doit etre de shape (nbr d'image,224,224,3), dans ce cas nbr d'image est 1, car on test sur une seule image**"
      ]
    },
    {
      "cell_type": "code",
      "execution_count": null,
      "metadata": {
        "id": "zHQwKP-lbYSj"
      },
      "outputs": [],
      "source": [
        "im = imga.reshape((1,224,224,3))"
      ]
    },
    {
      "cell_type": "code",
      "execution_count": null,
      "metadata": {
        "id": "SG9ztaVQbYSk"
      },
      "outputs": [],
      "source": [
        "predictions = age_model.predict(im)"
      ]
    },
    {
      "cell_type": "markdown",
      "metadata": {
        "id": "h2l6tBq6bYSk"
      },
      "source": [
        "**la sortie est un array de 101 element, car ce model est testé sur des images de personnes agées jusqu'à 100, ici, on fait la somme sur les probas données par ces prédictions**"
      ]
    },
    {
      "cell_type": "code",
      "execution_count": null,
      "metadata": {
        "id": "dcdeQyWlbYSk"
      },
      "outputs": [],
      "source": [
        "output_indexes = np.array([i for i in range(0, 101)])\n",
        "apparent_predictions = np.sum(predictions * output_indexes, axis = 1)"
      ]
    },
    {
      "cell_type": "markdown",
      "metadata": {
        "id": "RLZ0oER2bYSl"
      },
      "source": [
        "**Voila !**"
      ]
    },
    {
      "cell_type": "code",
      "execution_count": null,
      "metadata": {
        "id": "JUgIKhCjbYSl",
        "outputId": "50830d60-ff50-4e18-bb3d-8ed159140b77"
      },
      "outputs": [
        {
          "name": "stdout",
          "output_type": "stream",
          "text": [
            "20\n"
          ]
        }
      ],
      "source": [
        "print(int(*apparent_predictions))"
      ]
    },
    {
      "cell_type": "markdown",
      "metadata": {
        "id": "xNH5raUjbYSm"
      },
      "source": [
        "# Passons au étape suivante"
      ]
    },
    {
      "cell_type": "markdown",
      "metadata": {
        "id": "OXIFrqTfbYSm"
      },
      "source": [
        "## Préparation des données"
      ]
    },
    {
      "cell_type": "code",
      "execution_count": null,
      "metadata": {
        "id": "ezQYMHTTU0AK"
      },
      "outputs": [],
      "source": [
        "def extraire_age(title):\n",
        "    return int(title.split(\"_\")[0])"
      ]
    },
    {
      "cell_type": "code",
      "execution_count": null,
      "metadata": {
        "id": "utFVgaifbYSm"
      },
      "outputs": [],
      "source": [
        "images = [f for f in listdir(\"images\")] #lire les nom des images utilisées\n",
        "for x in images:\n",
        "    #resizing images\n",
        "    x = x.lower()\n",
        "    img = Image.open(\"images/\"+x)\n",
        "    if(len(np.asarray(img).shape)==3 and extract_age(x)>=18): #prendre les image en couleurs de personnes agées de plus que 18\n",
        "        imag = img.resize((224,224))\n",
        "        img = np.asarray(imag).reshape((1,224,224,3))\n",
        "        predictions = age_model.predict(img) #predir l'age\n",
        "        output_indexes = np.array([i for i in range(0, 101)])\n",
        "        apparent_predictions = np.sum(predictions * output_indexes, axis = 1)\n",
        "        pred = int(apparent_predictions[0])\n",
        "        imag.save('dataset/'+str(extract_age(x))+\"_\"+str(pred)+\"_\"+str(i)+\".jpeg\")"
      ]
    },
    {
      "cell_type": "code",
      "execution_count": null,
      "metadata": {
        "colab": {
          "base_uri": "https://localhost:8080/",
          "height": 51
        },
        "id": "LLiAzoH_eVG2",
        "outputId": "a488e98d-0af2-4169-eb56-b884da116e4a"
      },
      "outputs": [
        {
          "name": "stdout",
          "output_type": "stream",
          "text": [
            "features shape (4450, 224, 224, 3)\n",
            "Targets shape (4450,)\n"
          ]
        }
      ],
      "source": [
        "#extraction de dataSet\n",
        "targets = []\n",
        "features = []\n",
        "for file in liste_images:\n",
        "    img = Image.open(file)\n",
        "    features.append(np.array(img))\n",
        "    age_reel = file.split('_')[0]\n",
        "    age_pred = file.split('_')[1]\n",
        "    target = age_pred / (age_pred + age_reel) # le facteur de vieillissement\n",
        "    targets.append(target)\n",
        "\n",
        "features = np.array(features)\n",
        "targets = np.array(targets)\n",
        "\n",
        "print(\"features shape\", features.shape)\n",
        "print(\"Targets shape\", targets.shape)"
      ]
    },
    {
      "cell_type": "markdown",
      "metadata": {
        "id": "fnu_B_tHbYSn"
      },
      "source": [
        "**Diviser la dataset pour apprentissage et test**"
      ]
    },
    {
      "cell_type": "code",
      "execution_count": null,
      "metadata": {
        "colab": {
          "base_uri": "https://localhost:8080/",
          "height": 85
        },
        "id": "um_fmwX9XnnJ",
        "outputId": "638718fa-e46f-44f2-8bc1-4be52327f22b"
      },
      "outputs": [
        {
          "name": "stdout",
          "output_type": "stream",
          "text": [
            "X_train.shape (3115, 224, 224, 3)\n",
            "X_valid.shape (1335, 224, 224, 3)\n",
            "y_train.shape (3115,)\n",
            "y_valid.shape (1335,)\n"
          ]
        }
      ],
      "source": [
        "from sklearn.model_selection import train_test_split\n",
        "\n",
        "X_train, X_valid, y_train, y_valid = train_test_split(features, targets, test_size=0.3, random_state=101)\n",
        "\n",
        "print(\"X_train.shape\", X_train.shape)\n",
        "print(\"X_valid.shape\", X_valid.shape)\n",
        "print(\"y_train.shape\", y_train.shape)\n",
        "print(\"y_valid.shape\", y_valid.shape)"
      ]
    },
    {
      "cell_type": "markdown",
      "metadata": {
        "id": "NRH8xHNZbYSo"
      },
      "source": [
        "**L'architecture choisi pour l'entrainement** <br>\n",
        "*une version partielle de VGG16*"
      ]
    },
    {
      "cell_type": "code",
      "execution_count": null,
      "metadata": {
        "colab": {
          "base_uri": "https://localhost:8080/",
          "height": 782
        },
        "id": "8Quq8znrbVtf",
        "outputId": "904ddd49-8ac1-468b-a389-280b23a404ac"
      },
      "outputs": [
        {
          "name": "stdout",
          "output_type": "stream",
          "text": [
            "_________________________________________________________________\n",
            "Layer (type)                 Output Shape              Param #   \n",
            "=================================================================\n",
            "batch_normalization_37 (Batc (None, 224, 224, 3)       12        \n",
            "_________________________________________________________________\n",
            "conv2d_487 (Conv2D)          (None, 222, 222, 64)      1792      \n",
            "_________________________________________________________________\n",
            "conv2d_488 (Conv2D)          (None, 222, 222, 64)      36928     \n",
            "_________________________________________________________________\n",
            "max_pooling2d_218 (MaxPoolin (None, 74, 74, 64)        0         \n",
            "_________________________________________________________________\n",
            "conv2d_489 (Conv2D)          (None, 74, 74, 128)       73856     \n",
            "_________________________________________________________________\n",
            "conv2d_490 (Conv2D)          (None, 74, 74, 128)       147584    \n",
            "_________________________________________________________________\n",
            "max_pooling2d_219 (MaxPoolin (None, 24, 24, 128)       0         \n",
            "_________________________________________________________________\n",
            "conv2d_491 (Conv2D)          (None, 24, 24, 256)       295168    \n",
            "_________________________________________________________________\n",
            "conv2d_492 (Conv2D)          (None, 24, 24, 256)       590080    \n",
            "_________________________________________________________________\n",
            "conv2d_493 (Conv2D)          (None, 24, 24, 256)       590080    \n",
            "_________________________________________________________________\n",
            "max_pooling2d_220 (MaxPoolin (None, 8, 8, 256)         0         \n",
            "_________________________________________________________________\n",
            "conv2d_494 (Conv2D)          (None, 8, 8, 256)         590080    \n",
            "_________________________________________________________________\n",
            "conv2d_495 (Conv2D)          (None, 8, 8, 256)         590080    \n",
            "_________________________________________________________________\n",
            "conv2d_496 (Conv2D)          (None, 8, 8, 256)         590080    \n",
            "_________________________________________________________________\n",
            "max_pooling2d_221 (MaxPoolin (None, 3, 3, 256)         0         \n",
            "_________________________________________________________________\n",
            "reshape_72 (Reshape)         (None, Dimension(3), 768) 0         \n",
            "_________________________________________________________________\n",
            "lstm_73 (LSTM)               (None, 256)               1049600   \n",
            "_________________________________________________________________\n",
            "dropout_56 (Dropout)         (None, 256)               0         \n",
            "_________________________________________________________________\n",
            "dense_84 (Dense)             (None, 1)                 257       \n",
            "=================================================================\n",
            "Total params: 4,555,597\n",
            "Trainable params: 4,555,591\n",
            "Non-trainable params: 6\n",
            "_________________________________________________________________\n"
          ]
        }
      ],
      "source": [
        "model = Sequential()\n",
        "model.add(BatchNormalization(input_shape=(X_train.shape[1],X_train.shape[2],X_train.shape[3])))\n",
        "model.add(Conv2D(64, (3,3), activation='relu'))\n",
        "model.add(Conv2D(64, (3,3), activation='relu',padding='same'))\n",
        "model.add(MaxPooling2D(pool_size=3))\n",
        "model.add(Conv2D(128, (3,3), activation='relu',padding='same'))\n",
        "model.add(Conv2D(128, (3,3), activation='relu',padding='same'))\n",
        "model.add(MaxPooling2D(pool_size=3))\n",
        "model.add(Conv2D(256, (3,3), activation='relu',padding='same'))\n",
        "model.add(Conv2D(256, (3,3), activation='relu',padding='same'))\n",
        "model.add(Conv2D(256, (3,3), activation='relu',padding='same'))\n",
        "model.add(MaxPooling2D(pool_size=3,padding='same'))\n",
        "model.add(Conv2D(256, (3,3), activation='relu',padding='same'))\n",
        "model.add(Conv2D(256, (3,3), activation='relu',padding='same'))\n",
        "model.add(Conv2D(256, (3,3), activation='relu',padding='same'))\n",
        "model.add(MaxPooling2D(pool_size=3,padding='same'))\n",
        "model.add(Reshape((int(model.output.shape[1]),int(model.output.shape[2]*model.output.shape[3]))))\n",
        "model.add(LSTM(256,activation=\"relu\",return_sequences=False))\n",
        "\n",
        "model.add(Dropout(0.2))\n",
        "model.add(Dense(1))\n",
        "#datagen = ImageDataGenerator(featurewise_center=True,featurewise_std_normalization=True,rotation_range=20,width_shift_range=0.2,height_shift_range=0.2,horizontal_flip=True)\n",
        "\n",
        "model.summary()\n",
        "\n",
        "#model.compile(optimizer='adam', loss='mse')\n",
        "model.compile(optimizer=SGD(lr=0.001), loss='mean_squared_logarithmic_error')\n",
        "#model.compile(optimizer='adam', loss='mean_squared_logarithmic_error')"
      ]
    },
    {
      "cell_type": "markdown",
      "metadata": {
        "id": "njaSZQxkbYSo"
      },
      "source": [
        "**Phase d'entrainement**<br>\n",
        "*Nous avons utilisé 0.2 de la dataset d'entrainement pour la validation*"
      ]
    },
    {
      "cell_type": "code",
      "execution_count": null,
      "metadata": {
        "colab": {
          "base_uri": "https://localhost:8080/",
          "height": 714
        },
        "id": "h2nSvYDUT90d",
        "outputId": "ce1fba94-6f87-4829-b942-866e9c2e3714"
      },
      "outputs": [
        {
          "name": "stdout",
          "output_type": "stream",
          "text": [
            "Train on 2492 samples, validate on 623 samples\n",
            "Epoch 1/20\n",
            "2492/2492 [==============================] - 25s 10ms/step - loss: 0.1032 - val_loss: 0.0822\n",
            "Epoch 2/20\n",
            "2492/2492 [==============================] - 19s 8ms/step - loss: 0.0650 - val_loss: 0.0522\n",
            "Epoch 3/20\n",
            "2492/2492 [==============================] - 19s 8ms/step - loss: 0.0407 - val_loss: 0.0326\n",
            "Epoch 4/20\n",
            "2492/2492 [==============================] - 19s 8ms/step - loss: 0.0248 - val_loss: 0.0197\n",
            "Epoch 5/20\n",
            "2492/2492 [==============================] - 19s 8ms/step - loss: 0.0146 - val_loss: 0.0115\n",
            "Epoch 6/20\n",
            "2492/2492 [==============================] - 19s 8ms/step - loss: 0.0084 - val_loss: 0.0067\n",
            "Epoch 7/20\n",
            "2492/2492 [==============================] - 19s 8ms/step - loss: 0.0051 - val_loss: 0.0042\n",
            "Epoch 8/20\n",
            "2492/2492 [==============================] - 19s 8ms/step - loss: 0.0034 - val_loss: 0.0030\n",
            "Epoch 9/20\n",
            "2492/2492 [==============================] - 19s 8ms/step - loss: 0.0027 - val_loss: 0.0024\n",
            "Epoch 10/20\n",
            "2492/2492 [==============================] - 19s 8ms/step - loss: 0.0023 - val_loss: 0.0022\n",
            "Epoch 11/20\n",
            "2492/2492 [==============================] - 19s 8ms/step - loss: 0.0023 - val_loss: 0.0021\n",
            "Epoch 12/20\n",
            "2492/2492 [==============================] - 19s 8ms/step - loss: 0.0022 - val_loss: 0.0020\n",
            "Epoch 13/20\n",
            "2492/2492 [==============================] - 19s 8ms/step - loss: 0.0021 - val_loss: 0.0019\n",
            "Epoch 14/20\n",
            "2492/2492 [==============================] - 19s 8ms/step - loss: 0.0021 - val_loss: 0.0019\n",
            "Epoch 15/20\n",
            "2492/2492 [==============================] - 19s 8ms/step - loss: 0.0020 - val_loss: 0.0018\n",
            "Epoch 16/20\n",
            "2492/2492 [==============================] - 19s 8ms/step - loss: 0.0020 - val_loss: 0.0018\n",
            "Epoch 17/20\n",
            "2492/2492 [==============================] - 19s 8ms/step - loss: 0.0020 - val_loss: 0.0018\n",
            "Epoch 18/20\n",
            "2492/2492 [==============================] - 19s 8ms/step - loss: 0.0020 - val_loss: 0.0018\n",
            "Epoch 19/20\n",
            "2492/2492 [==============================] - 19s 8ms/step - loss: 0.0020 - val_loss: 0.0017\n",
            "Epoch 20/20\n",
            "2492/2492 [==============================] - 19s 8ms/step - loss: 0.0019 - val_loss: 0.0017\n"
          ]
        }
      ],
      "source": [
        "history = model.fit(X_train, y_train, epochs=20,validation_split=0.2,batch_size=32, verbose=1)\n",
        "#model.fit_generator(datagen.flow(X_train, y_train, batch_size=32),steps_per_epoch=len(X_train) / 32, epochs=20)"
      ]
    },
    {
      "cell_type": "markdown",
      "metadata": {
        "id": "y97EUINdbYSp"
      },
      "source": [
        "*Une fonction qui dessine le learning curve*"
      ]
    },
    {
      "cell_type": "code",
      "execution_count": null,
      "metadata": {
        "id": "4Bp6zPO5q-ph"
      },
      "outputs": [],
      "source": [
        "def Xplot(hist):\n",
        "    f, axarr = plt.subplots(1,1, figsize=(20, 5))\n",
        "\n",
        "    plt.plot(hist.history['loss'])\n",
        "    plt.plot(hist.history['val_loss'])\n",
        "    axarr.set_title('Model loss')\n",
        "    axarr.set_ylabel('Loss')\n",
        "    axarr.set_xlabel('Epoch')\n",
        "    axarr.legend(['Train', 'val'], loc='upper left')\n",
        "    plt.show()"
      ]
    },
    {
      "cell_type": "markdown",
      "metadata": {
        "id": "uYXkvRo9bYSp"
      },
      "source": [
        "**Les deux courbe converge vers le minimum d'erreur en 10 epoch**<br>\n",
        "*Le modéle peut bien généraliser*"
      ]
    },
    {
      "cell_type": "code",
      "execution_count": null,
      "metadata": {
        "colab": {
          "base_uri": "https://localhost:8080/",
          "height": 350
        },
        "id": "KvddGLxrUCaG",
        "outputId": "884b93f3-3059-401a-c5ff-7340f7e58e86"
      },
      "outputs": [
        {
          "data": {
            "image/png": "[encoded data removed]",
            "text/plain": [
              "<Figure size 1440x360 with 1 Axes>"
            ]
          },
          "metadata": {
            "tags": []
          },
          "output_type": "display_data"
        }
      ],
      "source": [
        "Xplot(history)"
      ]
    },
    {
      "cell_type": "markdown",
      "metadata": {
        "id": "816LEp_zbYSq"
      },
      "source": [
        "**Evaluation de modéle en utilisant le MSE, car c'est un problème de régression**<br>\n",
        "*le mse est faible ce qui montre que le modéle marche bien*"
      ]
    },
    {
      "cell_type": "code",
      "execution_count": null,
      "metadata": {
        "colab": {
          "base_uri": "https://localhost:8080/",
          "height": 34
        },
        "id": "GnxXiGeMDtfL",
        "outputId": "4e305436-4d18-4bc1-c108-d5114c9b9c0e"
      },
      "outputs": [
        {
          "data": {
            "text/plain": [
              "0.0032797976094213867"
            ]
          },
          "execution_count": 308,
          "metadata": {
            "tags": []
          },
          "output_type": "execute_result"
        }
      ],
      "source": [
        "from sklearn.metrics import mean_squared_error\n",
        "y_pred = model.predict(X_valid)\n",
        "mean_squared_error(y_valid, y_pred)"
      ]
    },
    {
      "cell_type": "markdown",
      "metadata": {
        "id": "Y72KnM1hbYSq"
      },
      "source": [
        "**Le teste de modéle**<br>\n",
        "*Ici nous avons testé sur une images pour avoir le facteur de vieillissement*"
      ]
    },
    {
      "cell_type": "code",
      "execution_count": null,
      "metadata": {
        "id": "GF6-5WHobYSq",
        "outputId": "ad9a84bb-dbed-4be1-ce5f-8e6dd96b3720"
      },
      "outputs": [
        {
          "data": {
            "text/plain": [
              "array([0.57142857])"
            ]
          },
          "execution_count": 12,
          "metadata": {},
          "output_type": "execute_result"
        }
      ],
      "source": [
        "model.predict(img.reshape(1,224,224,3))"
      ]
    },
    {
      "cell_type": "code",
      "execution_count": null,
      "metadata": {
        "colab": {
          "base_uri": "https://localhost:8080/",
          "height": 34
        },
        "id": "0FTIlxNvv8bh",
        "outputId": "1f80e832-000c-4c5c-fe04-4dc156ca7c76"
      },
      "outputs": [
        {
          "data": {
            "text/plain": [
              "array([[0.50567865]], dtype=float32)"
            ]
          },
          "execution_count": 287,
          "metadata": {
            "tags": []
          },
          "output_type": "execute_result"
        }
      ],
      "source": [
        "model.predict(X_valid[0].reshape(1,224,224,3))"
      ]
    }
  ],
  "metadata": {
    "accelerator": "GPU",
    "colab": {
      "collapsed_sections": [],
      "name": "Age rating prediction.ipynb",
      "provenance": [],
      "include_colab_link": true
    },
    "kernelspec": {
      "display_name": "Python 3",
      "language": "python",
      "name": "python3"
    },
    "language_info": {
      "codemirror_mode": {
        "name": "ipython",
        "version": 3
      },
      "file_extension": ".py",
      "mimetype": "text/x-python",
      "name": "python",
      "nbconvert_exporter": "python",
      "pygments_lexer": "ipython3",
      "version": "3.6.8"
    }
  },
  "nbformat": 4,
  "nbformat_minor": 0
}